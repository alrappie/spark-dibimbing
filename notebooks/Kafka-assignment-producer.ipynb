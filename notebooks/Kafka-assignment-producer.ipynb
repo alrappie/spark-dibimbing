{
 "cells": [
  {
   "cell_type": "code",
   "execution_count": 16,
   "id": "25846da4-c6b2-46a5-b7d1-9809732bb1b9",
   "metadata": {
    "tags": []
   },
   "outputs": [],
   "source": [
    "import json\n",
    "import uuid\n",
    "import os\n",
    "import json\n",
    "from dotenv import load_dotenv\n",
    "from pathlib import Path\n",
    "from kafka import KafkaProducer\n",
    "from faker import Faker\n",
    "from time import sleep"
   ]
  },
  {
   "cell_type": "code",
   "execution_count": 17,
   "id": "42f97822-c06f-47e0-a0a4-87a7bf1d95a9",
   "metadata": {
    "tags": []
   },
   "outputs": [
    {
     "data": {
      "text/plain": [
       "True"
      ]
     },
     "execution_count": 17,
     "metadata": {},
     "output_type": "execute_result"
    }
   ],
   "source": [
    "dotenv_path = Path('/resources/.env')\n",
    "load_dotenv(dotenv_path=dotenv_path)"
   ]
  },
  {
   "cell_type": "code",
   "execution_count": 18,
   "id": "3f89f5a9-8c75-4a38-b48d-ad72c6a13c41",
   "metadata": {
    "tags": []
   },
   "outputs": [],
   "source": [
    "kafka_host = os.getenv('KAFKA_HOST')\n",
    "kafka_topic = os.getenv('KAFKA_TOPIC_NAME')\n",
    "# kafka_topic_partition = os.getenv('KAFKA_TOPIC_NAME')+\"-1\"\n",
    "# kafka_topic_partition = \"dibimbing_batch_6\""
   ]
  },
  {
   "cell_type": "code",
   "execution_count": 19,
   "id": "a4a59d22-69c5-4e0a-b1e2-d0d77867c45b",
   "metadata": {
    "tags": []
   },
   "outputs": [
    {
     "name": "stdout",
     "output_type": "stream",
     "text": [
      "dataeng-kafka\n"
     ]
    }
   ],
   "source": [
    "print(kafka_host)"
   ]
  },
  {
   "cell_type": "code",
   "execution_count": 20,
   "id": "8515096d-3bc6-4905-98f5-eb1e6d7bfa4c",
   "metadata": {
    "tags": []
   },
   "outputs": [],
   "source": [
    "producer = KafkaProducer(bootstrap_servers=f'{kafka_host}:9092')"
   ]
  },
  {
   "cell_type": "code",
   "execution_count": 21,
   "id": "78075b5c-08c8-4c43-99a1-0689a87414c4",
   "metadata": {
    "tags": []
   },
   "outputs": [],
   "source": [
    "_instance = Faker()\n",
    "global faker\n",
    "faker = Faker()"
   ]
  },
  {
   "cell_type": "code",
   "execution_count": 22,
   "id": "503ade79-0f77-4970-8e04-ecefce397398",
   "metadata": {
    "tags": []
   },
   "outputs": [
    {
     "name": "stdout",
     "output_type": "stream",
     "text": [
      "e1e2b169-7822-4dd4-a243-6f7f86b687b2 RecordMetadata(topic='customer_transactions', partition=0, topic_partition=TopicPartition(topic='customer_transactions', partition=0), offset=27, timestamp=1743657512172, log_start_offset=0, checksum=None, serialized_key_size=-1, serialized_value_size=219, serialized_header_size=-1)\n",
      "38da8888-bae9-4c9c-ab57-98c3f62da8bc RecordMetadata(topic='customer_transactions', partition=0, topic_partition=TopicPartition(topic='customer_transactions', partition=0), offset=28, timestamp=1743657514886, log_start_offset=0, checksum=None, serialized_key_size=-1, serialized_value_size=210, serialized_header_size=-1)\n",
      "0c1d68f8-fb92-4c47-93f8-dbf0c2ecbab0 RecordMetadata(topic='customer_transactions', partition=0, topic_partition=TopicPartition(topic='customer_transactions', partition=0), offset=29, timestamp=1743657519897, log_start_offset=0, checksum=None, serialized_key_size=-1, serialized_value_size=222, serialized_header_size=-1)\n",
      "f36f2efc-7628-4369-8336-88f4626c131b RecordMetadata(topic='customer_transactions', partition=0, topic_partition=TopicPartition(topic='customer_transactions', partition=0), offset=30, timestamp=1743657524907, log_start_offset=0, checksum=None, serialized_key_size=-1, serialized_value_size=218, serialized_header_size=-1)\n",
      "59137070-d3b5-4577-ae4c-7cefa123efdd RecordMetadata(topic='customer_transactions', partition=0, topic_partition=TopicPartition(topic='customer_transactions', partition=0), offset=31, timestamp=1743657529914, log_start_offset=0, checksum=None, serialized_key_size=-1, serialized_value_size=217, serialized_header_size=-1)\n",
      "d3bcb77c-3db9-49ff-99a3-b0d08a13a03b RecordMetadata(topic='customer_transactions', partition=0, topic_partition=TopicPartition(topic='customer_transactions', partition=0), offset=32, timestamp=1743657534924, log_start_offset=0, checksum=None, serialized_key_size=-1, serialized_value_size=215, serialized_header_size=-1)\n",
      "320054be-958f-4ebe-91f0-1173a145ebe8 RecordMetadata(topic='customer_transactions', partition=0, topic_partition=TopicPartition(topic='customer_transactions', partition=0), offset=33, timestamp=1743657539934, log_start_offset=0, checksum=None, serialized_key_size=-1, serialized_value_size=221, serialized_header_size=-1)\n",
      "2fabdd3f-c6e3-4c85-9fba-bfc1043b573c RecordMetadata(topic='customer_transactions', partition=0, topic_partition=TopicPartition(topic='customer_transactions', partition=0), offset=34, timestamp=1743657542647, log_start_offset=0, checksum=None, serialized_key_size=-1, serialized_value_size=220, serialized_header_size=-1)\n",
      "66987c57-27e3-425a-8c9a-519c572deb5d RecordMetadata(topic='customer_transactions', partition=0, topic_partition=TopicPartition(topic='customer_transactions', partition=0), offset=35, timestamp=1743657547656, log_start_offset=0, checksum=None, serialized_key_size=-1, serialized_value_size=215, serialized_header_size=-1)\n",
      "0e600fb2-79c1-487a-8d55-d1d679e9a6ed RecordMetadata(topic='customer_transactions', partition=0, topic_partition=TopicPartition(topic='customer_transactions', partition=0), offset=36, timestamp=1743657552666, log_start_offset=0, checksum=None, serialized_key_size=-1, serialized_value_size=219, serialized_header_size=-1)\n",
      "b236956e-5530-49b5-bed7-88ddaa41fefb RecordMetadata(topic='customer_transactions', partition=0, topic_partition=TopicPartition(topic='customer_transactions', partition=0), offset=37, timestamp=1743657557678, log_start_offset=0, checksum=None, serialized_key_size=-1, serialized_value_size=217, serialized_header_size=-1)\n",
      "36f2c0d7-614f-441a-a154-17a27e2683dd RecordMetadata(topic='customer_transactions', partition=0, topic_partition=TopicPartition(topic='customer_transactions', partition=0), offset=38, timestamp=1743657562707, log_start_offset=0, checksum=None, serialized_key_size=-1, serialized_value_size=219, serialized_header_size=-1)\n",
      "66192210-d9ae-45a9-b67e-c683d2098c67 RecordMetadata(topic='customer_transactions', partition=0, topic_partition=TopicPartition(topic='customer_transactions', partition=0), offset=39, timestamp=1743657567718, log_start_offset=0, checksum=None, serialized_key_size=-1, serialized_value_size=222, serialized_header_size=-1)\n",
      "7519f35e-3e8b-4c7b-8181-8e7b82e7aed7 RecordMetadata(topic='customer_transactions', partition=0, topic_partition=TopicPartition(topic='customer_transactions', partition=0), offset=40, timestamp=1743657570415, log_start_offset=0, checksum=None, serialized_key_size=-1, serialized_value_size=218, serialized_header_size=-1)\n",
      "021949eb-333e-4347-8280-6316183b8167 RecordMetadata(topic='customer_transactions', partition=0, topic_partition=TopicPartition(topic='customer_transactions', partition=0), offset=41, timestamp=1743657575425, log_start_offset=0, checksum=None, serialized_key_size=-1, serialized_value_size=216, serialized_header_size=-1)\n",
      "3ee64569-63c5-4195-929d-4b139c788807 RecordMetadata(topic='customer_transactions', partition=0, topic_partition=TopicPartition(topic='customer_transactions', partition=0), offset=42, timestamp=1743657580435, log_start_offset=0, checksum=None, serialized_key_size=-1, serialized_value_size=225, serialized_header_size=-1)\n",
      "a8eccb88-4ac9-4ca2-baf1-7b1dd0051186 RecordMetadata(topic='customer_transactions', partition=0, topic_partition=TopicPartition(topic='customer_transactions', partition=0), offset=43, timestamp=1743657585445, log_start_offset=0, checksum=None, serialized_key_size=-1, serialized_value_size=219, serialized_header_size=-1)\n",
      "b46fb54c-c1ae-4ef6-b603-ad6345d8f331 RecordMetadata(topic='customer_transactions', partition=0, topic_partition=TopicPartition(topic='customer_transactions', partition=0), offset=44, timestamp=1743657590455, log_start_offset=0, checksum=None, serialized_key_size=-1, serialized_value_size=216, serialized_header_size=-1)\n",
      "fb314c62-b45e-46d6-9ff5-b66833e5f662 RecordMetadata(topic='customer_transactions', partition=0, topic_partition=TopicPartition(topic='customer_transactions', partition=0), offset=45, timestamp=1743657595463, log_start_offset=0, checksum=None, serialized_key_size=-1, serialized_value_size=219, serialized_header_size=-1)\n",
      "2e872473-1289-4ec4-84e1-bca1641b6ccd RecordMetadata(topic='customer_transactions', partition=0, topic_partition=TopicPartition(topic='customer_transactions', partition=0), offset=46, timestamp=1743657598186, log_start_offset=0, checksum=None, serialized_key_size=-1, serialized_value_size=226, serialized_header_size=-1)\n",
      "3adb6fc0-0d96-4efc-a27c-c4ac7899a055 RecordMetadata(topic='customer_transactions', partition=0, topic_partition=TopicPartition(topic='customer_transactions', partition=0), offset=47, timestamp=1743657603197, log_start_offset=0, checksum=None, serialized_key_size=-1, serialized_value_size=216, serialized_header_size=-1)\n",
      "5bc79262-3d65-4f82-bef0-0294fc1f2d1c RecordMetadata(topic='customer_transactions', partition=0, topic_partition=TopicPartition(topic='customer_transactions', partition=0), offset=48, timestamp=1743657608207, log_start_offset=0, checksum=None, serialized_key_size=-1, serialized_value_size=215, serialized_header_size=-1)\n",
      "c4048fd6-eb04-4fb0-a4c1-f5ef2522a63b RecordMetadata(topic='customer_transactions', partition=0, topic_partition=TopicPartition(topic='customer_transactions', partition=0), offset=49, timestamp=1743657613216, log_start_offset=0, checksum=None, serialized_key_size=-1, serialized_value_size=222, serialized_header_size=-1)\n"
     ]
    },
    {
     "ename": "KeyboardInterrupt",
     "evalue": "",
     "output_type": "error",
     "traceback": [
      "\u001b[0;31m---------------------------------------------------------------------------\u001b[0m",
      "\u001b[0;31mKeyboardInterrupt\u001b[0m                         Traceback (most recent call last)",
      "Cell \u001b[0;32mIn[22], line 26\u001b[0m\n\u001b[1;32m     24\u001b[0m response \u001b[38;5;241m=\u001b[39m producer\u001b[38;5;241m.\u001b[39msend(topic\u001b[38;5;241m=\u001b[39mkafka_topic_partition, value\u001b[38;5;241m=\u001b[39mtransaction_data)\n\u001b[1;32m     25\u001b[0m \u001b[38;5;28mprint\u001b[39m(transaction_data[\u001b[38;5;124m\"\u001b[39m\u001b[38;5;124mtransaction_id\u001b[39m\u001b[38;5;124m\"\u001b[39m], response\u001b[38;5;241m.\u001b[39mget())\n\u001b[0;32m---> 26\u001b[0m \u001b[43msleep\u001b[49m\u001b[43m(\u001b[49m\u001b[38;5;241;43m5\u001b[39;49m\u001b[43m)\u001b[49m\n",
      "\u001b[0;31mKeyboardInterrupt\u001b[0m: "
     ]
    }
   ],
   "source": [
    "# Kafka Configuration\n",
    "kafka_topic_partition = \"customer_transactions\"\n",
    "producer = KafkaProducer(\n",
    "    bootstrap_servers=f'{kafka_host}:9092',\n",
    "    value_serializer=lambda v: json.dumps(v).encode(\"utf-8\")\n",
    ")\n",
    "\n",
    "class TransactionGenerator:\n",
    "    @staticmethod\n",
    "    def get_transaction():\n",
    "        return {\n",
    "            \"transaction_id\": uuid.uuid4().__str__(),\n",
    "            \"customer_name\": faker.name(),\n",
    "            \"category\": faker.random_element(elements=('Electronics', 'Fashion', 'Groceries', 'Automotive', 'Health & Beauty')),\n",
    "            \"amount\": round(faker.random_number(digits=4, fix_len=True) * faker.random.uniform(1.1, 2.5), 2),\n",
    "            \"payment_type\": faker.random_element(elements=('Credit Card', 'Debit Card', 'PayPal', 'Cash', 'Crypto')),\n",
    "            \"location\": faker.city(),\n",
    "            \"timestamp\": faker.unix_time()\n",
    "        }\n",
    "\n",
    "# Produce messages to Kafka\n",
    "for _ in range(400):\n",
    "    transaction_data = TransactionGenerator.get_transaction()\n",
    "    response = producer.send(topic=kafka_topic_partition, value=transaction_data)\n",
    "    print(transaction_data[\"transaction_id\"], response.get())\n",
    "    sleep(5)\n"
   ]
  },
  {
   "cell_type": "code",
   "execution_count": null,
   "id": "be1f121f-6f90-441c-a027-c095f5903ac9",
   "metadata": {},
   "outputs": [],
   "source": []
  }
 ],
 "metadata": {
  "kernelspec": {
   "display_name": "Python 3 (ipykernel)",
   "language": "python",
   "name": "python3"
  },
  "language_info": {
   "codemirror_mode": {
    "name": "ipython",
    "version": 3
   },
   "file_extension": ".py",
   "mimetype": "text/x-python",
   "name": "python",
   "nbconvert_exporter": "python",
   "pygments_lexer": "ipython3",
   "version": "3.10.10"
  }
 },
 "nbformat": 4,
 "nbformat_minor": 5
}
