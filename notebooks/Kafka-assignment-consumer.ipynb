{
 "cells": [
  {
   "cell_type": "code",
   "execution_count": 44,
   "id": "aa3d2efe-9447-4b55-b7a7-5e3b51762fe8",
   "metadata": {
    "tags": []
   },
   "outputs": [],
   "source": [
    "import json\n",
    "import uuid\n",
    "import os\n",
    "import json\n",
    "from dotenv import load_dotenv\n",
    "from pathlib import Path\n",
    "from kafka import KafkaProducer\n",
    "from faker import Faker\n",
    "from time import sleep"
   ]
  },
  {
   "cell_type": "code",
   "execution_count": 45,
   "id": "f8124ea4-9961-4141-8f61-4b3a31b35beb",
   "metadata": {
    "tags": []
   },
   "outputs": [
    {
     "data": {
      "text/plain": [
       "True"
      ]
     },
     "execution_count": 45,
     "metadata": {},
     "output_type": "execute_result"
    }
   ],
   "source": [
    "dotenv_path = Path('/resources/.env')\n",
    "load_dotenv(dotenv_path=dotenv_path)"
   ]
  },
  {
   "cell_type": "code",
   "execution_count": 46,
   "id": "984cf422-fabd-43a4-8e1e-9771303b556b",
   "metadata": {
    "tags": []
   },
   "outputs": [],
   "source": [
    "kafka_host = os.getenv('KAFKA_HOST')\n",
    "kafka_topic = os.getenv('KAFKA_TOPIC_NAME')\n",
    "# kafka_topic_partition = os.getenv('KAFKA_TOPIC_NAME')+\"-1\"\n",
    "kafka_topic_partition = \"customer_transactions\""
   ]
  },
  {
   "cell_type": "code",
   "execution_count": 47,
   "id": "47d743be-7190-48e0-87c0-5f6ddedff5da",
   "metadata": {
    "tags": []
   },
   "outputs": [],
   "source": [
    "from kafka import KafkaConsumer\n",
    "\n",
    "# Kafka Consumer Setup\n",
    "consumer = KafkaConsumer(\n",
    "    group_id='dibimbing-group',\n",
    "    bootstrap_servers=[f\"{kafka_host}:9092\"],\n",
    "    value_deserializer=lambda m: json.loads(m.decode(\"utf-8\")),\n",
    "    auto_offset_reset=\"earliest\",  # Start from the beginning if no offset is stored\n",
    "    enable_auto_commit=False,  # Manual commit\n",
    "    max_poll_records=10,  # Reduce batch size (default: 500)\n",
    "    session_timeout_ms=60000,  # Increase timeout for stability\n",
    "    max_poll_interval_ms=300000  # Increase time before rebalancing\n",
    ")\n"
   ]
  },
  {
   "cell_type": "code",
   "execution_count": 48,
   "id": "6f3d0cf5-55ef-4ccd-bf03-219b2daa34d4",
   "metadata": {
    "tags": []
   },
   "outputs": [],
   "source": [
    "from kafka import TopicPartition\n",
    "consumer.assign([\n",
    "    TopicPartition(kafka_topic_partition, 0),\n",
    "    TopicPartition(kafka_topic_partition, 1)\n",
    "])"
   ]
  },
  {
   "cell_type": "code",
   "execution_count": 49,
   "id": "a459bca4-5ad7-4129-8537-a63877d79add",
   "metadata": {
    "tags": []
   },
   "outputs": [
    {
     "name": "stdout",
     "output_type": "stream",
     "text": [
      "Received Transaction: {'transaction_id': 'e1e2b169-7822-4dd4-a243-6f7f86b687b2', 'customer_name': 'Brittany Norris', 'category': 'Electronics', 'amount': 4913.96, 'payment_type': 'Crypto', 'location': 'Austinborough', 'timestamp': 879385544}\n",
      "Received Transaction: {'transaction_id': '38da8888-bae9-4c9c-ab57-98c3f62da8bc', 'customer_name': 'Kristen Taylor', 'category': 'Fashion', 'amount': 6910.61, 'payment_type': 'Cash', 'location': 'Alvarezbury', 'timestamp': 818273904}\n",
      "Received Transaction: {'transaction_id': '0c1d68f8-fb92-4c47-93f8-dbf0c2ecbab0', 'customer_name': 'Shawn Jordan', 'category': 'Groceries', 'amount': 13462.07, 'payment_type': 'Cash', 'location': 'East Jacquelineborough', 'timestamp': 303731388}\n",
      "Received Transaction: {'transaction_id': 'f36f2efc-7628-4369-8336-88f4626c131b', 'customer_name': 'Lauren Walker', 'category': 'Groceries', 'amount': 11381.6, 'payment_type': 'Credit Card', 'location': 'Harristown', 'timestamp': 1155405790}\n",
      "Received Transaction: {'transaction_id': '59137070-d3b5-4577-ae4c-7cefa123efdd', 'customer_name': 'Dennis Garcia', 'category': 'Fashion', 'amount': 13479.81, 'payment_type': 'Cash', 'location': 'North Samuelshire', 'timestamp': 1428598160}\n",
      "Received Transaction: {'transaction_id': 'd3bcb77c-3db9-49ff-99a3-b0d08a13a03b', 'customer_name': 'Larry Lewis', 'category': 'Automotive', 'amount': 10630.77, 'payment_type': 'Debit Card', 'location': 'Lake Lisa', 'timestamp': 495971014}\n",
      "Received Transaction: {'transaction_id': '320054be-958f-4ebe-91f0-1173a145ebe8', 'customer_name': 'Samantha Crane', 'category': 'Automotive', 'amount': 16724.66, 'payment_type': 'Credit Card', 'location': 'West Timothy', 'timestamp': 91793094}\n",
      "Received Transaction: {'transaction_id': '2fabdd3f-c6e3-4c85-9fba-bfc1043b573c', 'customer_name': 'Michael Palmer', 'category': 'Groceries', 'amount': 15450.68, 'payment_type': 'Crypto', 'location': 'East Nataliefort', 'timestamp': 492691154}\n",
      "Received Transaction: {'transaction_id': '66987c57-27e3-425a-8c9a-519c572deb5d', 'customer_name': 'James Castro', 'category': 'Fashion', 'amount': 15039.61, 'payment_type': 'Debit Card', 'location': 'North Alan', 'timestamp': 1587620685}\n",
      "Received Transaction: {'transaction_id': '0e600fb2-79c1-487a-8d55-d1d679e9a6ed', 'customer_name': 'Teresa Medina', 'category': 'Electronics', 'amount': 19995.32, 'payment_type': 'Debit Card', 'location': 'Robinstad', 'timestamp': 1183464338}\n",
      "Received Transaction: {'transaction_id': 'b236956e-5530-49b5-bed7-88ddaa41fefb', 'customer_name': 'James Brown', 'category': 'Automotive', 'amount': 15551.14, 'payment_type': 'Debit Card', 'location': 'Port Donald', 'timestamp': 135469403}\n",
      "Received Transaction: {'transaction_id': '36f2c0d7-614f-441a-a154-17a27e2683dd', 'customer_name': 'Heather Carlson', 'category': 'Health & Beauty', 'amount': 11159.18, 'payment_type': 'PayPal', 'location': 'Smithfort', 'timestamp': 41977474}\n",
      "Received Transaction: {'transaction_id': '66192210-d9ae-45a9-b67e-c683d2098c67', 'customer_name': 'Edward Peterson', 'category': 'Groceries', 'amount': 5553.12, 'payment_type': 'Debit Card', 'location': 'New Tylerfurt', 'timestamp': 1017508058}\n",
      "Received Transaction: {'transaction_id': '7519f35e-3e8b-4c7b-8181-8e7b82e7aed7', 'customer_name': 'Ethan James', 'category': 'Fashion', 'amount': 13985.47, 'payment_type': 'Debit Card', 'location': 'West Josephport', 'timestamp': 818189820}\n",
      "Received Transaction: {'transaction_id': '021949eb-333e-4347-8280-6316183b8167', 'customer_name': 'Jessica Vaughn', 'category': 'Health & Beauty', 'amount': 7633.56, 'payment_type': 'Cash', 'location': 'Edwardtown', 'timestamp': 46923512}\n",
      "Received Transaction: {'transaction_id': '3ee64569-63c5-4195-929d-4b139c788807', 'customer_name': 'Johnny Allen', 'category': 'Health & Beauty', 'amount': 8733.39, 'payment_type': 'PayPal', 'location': 'South Meganchester', 'timestamp': 637139271}\n",
      "Received Transaction: {'transaction_id': 'a8eccb88-4ac9-4ca2-baf1-7b1dd0051186', 'customer_name': 'Dr. Paula Rodriguez', 'category': 'Fashion', 'amount': 3984.41, 'payment_type': 'Debit Card', 'location': 'New John', 'timestamp': 1477968141}\n",
      "Received Transaction: {'transaction_id': 'b46fb54c-c1ae-4ef6-b603-ad6345d8f331', 'customer_name': 'Dean Garcia', 'category': 'Electronics', 'amount': 4856.19, 'payment_type': 'Credit Card', 'location': 'Masontown', 'timestamp': 551182066}\n",
      "Received Transaction: {'transaction_id': 'fb314c62-b45e-46d6-9ff5-b66833e5f662', 'customer_name': 'Steven Jones', 'category': 'Fashion', 'amount': 5193.25, 'payment_type': 'Credit Card', 'location': 'South Julieberg', 'timestamp': 333725071}\n",
      "Received Transaction: {'transaction_id': '2e872473-1289-4ec4-84e1-bca1641b6ccd', 'customer_name': 'Dr. Robert Patel', 'category': 'Health & Beauty', 'amount': 19072.94, 'payment_type': 'Crypto', 'location': 'Port Reneebury', 'timestamp': 925559222}\n",
      "Received Transaction: {'transaction_id': '3adb6fc0-0d96-4efc-a27c-c4ac7899a055', 'customer_name': 'Kayla Miles', 'category': 'Health & Beauty', 'amount': 3125.29, 'payment_type': 'PayPal', 'location': 'Jaredhaven', 'timestamp': 391294781}\n",
      "Received Transaction: {'transaction_id': '5bc79262-3d65-4f82-bef0-0294fc1f2d1c', 'customer_name': 'Kathy Ferguson', 'category': 'Automotive', 'amount': 14287.06, 'payment_type': 'PayPal', 'location': 'Marshberg', 'timestamp': 1455424542}\n",
      "Received Transaction: {'transaction_id': 'c4048fd6-eb04-4fb0-a4c1-f5ef2522a63b', 'customer_name': 'Theresa Smith', 'category': 'Health & Beauty', 'amount': 15473.6, 'payment_type': 'Debit Card', 'location': 'Mollyfort', 'timestamp': 1652769163}\n",
      "Consumer stopped.\n"
     ]
    }
   ],
   "source": [
    "try:\n",
    "    while True:\n",
    "        messages = consumer.poll(timeout_ms=1000)  # Poll frequently\n",
    "        if not messages:\n",
    "            continue  # No new messages, keep polling\n",
    "\n",
    "        for tp, records in messages.items():\n",
    "            for record in records:\n",
    "                data = record.value\n",
    "                print(f\"Received Transaction: {data}\")\n",
    "\n",
    "        consumer.commit()  # Commit offsets only after processing\n",
    "except KeyboardInterrupt:\n",
    "    print(\"Consumer stopped.\")\n",
    "finally:\n",
    "    consumer.close()"
   ]
  },
  {
   "cell_type": "code",
   "execution_count": null,
   "id": "53c1fc15-73e3-4dff-a596-a712ad99015d",
   "metadata": {},
   "outputs": [],
   "source": []
  }
 ],
 "metadata": {
  "kernelspec": {
   "display_name": "Python 3 (ipykernel)",
   "language": "python",
   "name": "python3"
  },
  "language_info": {
   "codemirror_mode": {
    "name": "ipython",
    "version": 3
   },
   "file_extension": ".py",
   "mimetype": "text/x-python",
   "name": "python",
   "nbconvert_exporter": "python",
   "pygments_lexer": "ipython3",
   "version": "3.10.10"
  }
 },
 "nbformat": 4,
 "nbformat_minor": 5
}
