{
 "cells": [
  {
   "cell_type": "code",
   "execution_count": 3,
   "id": "aa3d2efe-9447-4b55-b7a7-5e3b51762fe8",
   "metadata": {
    "tags": []
   },
   "outputs": [],
   "source": [
    "import json\n",
    "import uuid\n",
    "import os\n",
    "import json\n",
    "from dotenv import load_dotenv\n",
    "from pathlib import Path\n",
    "from kafka import KafkaProducer\n",
    "from faker import Faker\n",
    "from time import sleep"
   ]
  },
  {
   "cell_type": "code",
   "execution_count": 4,
   "id": "f8124ea4-9961-4141-8f61-4b3a31b35beb",
   "metadata": {
    "tags": []
   },
   "outputs": [
    {
     "data": {
      "text/plain": [
       "True"
      ]
     },
     "execution_count": 4,
     "metadata": {},
     "output_type": "execute_result"
    }
   ],
   "source": [
    "dotenv_path = Path('/resources/.env')\n",
    "load_dotenv(dotenv_path=dotenv_path)"
   ]
  },
  {
   "cell_type": "code",
   "execution_count": 5,
   "id": "984cf422-fabd-43a4-8e1e-9771303b556b",
   "metadata": {
    "tags": []
   },
   "outputs": [],
   "source": [
    "kafka_host = os.getenv('KAFKA_HOST')\n",
    "kafka_topic = os.getenv('KAFKA_TOPIC_NAME')\n",
    "kafka_topic_partition = os.getenv('KAFKA_TOPIC_NAME')+\"-1\""
   ]
  },
  {
   "cell_type": "code",
   "execution_count": 6,
   "id": "47d743be-7190-48e0-87c0-5f6ddedff5da",
   "metadata": {
    "tags": []
   },
   "outputs": [],
   "source": [
    "from kafka import KafkaConsumer\n",
    "\n",
    "# To consume latest messages and auto-commit offsets\n",
    "consumer = KafkaConsumer(kafka_topic_partition,\n",
    "                         group_id='dibimbing-group',\n",
    "                         bootstrap_servers=[f'{kafka_host}:9092'])"
   ]
  },
  {
   "cell_type": "code",
   "execution_count": 7,
   "id": "47c9f9b3-a5b0-4bd5-93e7-dcf06e99b192",
   "metadata": {
    "tags": []
   },
   "outputs": [
    {
     "name": "stdout",
     "output_type": "stream",
     "text": [
      "test-topic-1:0:22: key=None value=b'{\"emp_id\": \"e7db2611-a312-4930-9deb-cf1fdade8341\", \"employee_name\": \"Sherri Miller\", \"department\": \"HR\", \"state\": \"IL\", \"salary\": 77547, \"age\": 34, \"bonus\": 63971, \"ts\": 421751182}'\n",
      "test-topic-1:0:23: key=None value=b'{\"emp_id\": \"52821f84-1e9c-447f-b026-76295dc5bc5e\", \"employee_name\": \"Stacey Hardy\", \"department\": \"Sales\", \"state\": \"FL\", \"salary\": 115649, \"age\": 58, \"bonus\": 15834, \"ts\": 612861175}'\n",
      "test-topic-1:0:24: key=None value=b'{\"emp_id\": \"8356a9e3-cee3-4341-8f31-8b386b2a8b86\", \"employee_name\": \"John Moore\", \"department\": \"Sales\", \"state\": \"CA\", \"salary\": 42987, \"age\": 56, \"bonus\": 83536, \"ts\": 651421177}'\n",
      "test-topic-1:0:25: key=None value=b'{\"emp_id\": \"afa7e652-b640-4ca6-bd4e-3d1ef182366e\", \"employee_name\": \"Heather Fox\", \"department\": \"Sales\", \"state\": \"RJ\", \"salary\": 67028, \"age\": 58, \"bonus\": 90056, \"ts\": 1477241308}'\n",
      "test-topic-1:0:26: key=None value=b'{\"emp_id\": \"bd646f10-8d22-4db1-a5b8-e51359b1842d\", \"employee_name\": \"Steven Price\", \"department\": \"Sales\", \"state\": \"IL\", \"salary\": 97556, \"age\": 47, \"bonus\": 79448, \"ts\": 566091183}'\n",
      "test-topic-1:0:27: key=None value=b'{\"emp_id\": \"2e0bc996-5e89-4acc-a243-740ceba7d50d\", \"employee_name\": \"Robin Brooks\", \"department\": \"Sales\", \"state\": \"FL\", \"salary\": 68064, \"age\": 39, \"bonus\": 26860, \"ts\": 259053985}'\n",
      "test-topic-1:0:28: key=None value=b'{\"emp_id\": \"87e2a75b-64f7-4c94-8336-87497c53b518\", \"employee_name\": \"Jessica Allen\", \"department\": \"Marketing\", \"state\": \"TX\", \"salary\": 116886, \"age\": 45, \"bonus\": 4615, \"ts\": 361861280}'\n",
      "test-topic-1:0:29: key=None value=b'{\"emp_id\": \"ab52db64-4bdf-489b-a775-d9e858116897\", \"employee_name\": \"Tiffany Espinoza\", \"department\": \"HR\", \"state\": \"FL\", \"salary\": 43212, \"age\": 45, \"bonus\": 22719, \"ts\": 1389877961}'\n",
      "test-topic-1:0:30: key=None value=b'{\"emp_id\": \"db7b22d1-b0bd-44ff-aa86-ba47b6eedf48\", \"employee_name\": \"Eric Wong\", \"department\": \"IT\", \"state\": \"NY\", \"salary\": 55680, \"age\": 19, \"bonus\": 49755, \"ts\": 517733236}'\n",
      "test-topic-1:0:31: key=None value=b'{\"emp_id\": \"5312a189-6246-4f82-8f1d-34dd0a35aef5\", \"employee_name\": \"Kim Young\", \"department\": \"Marketing\", \"state\": \"RJ\", \"salary\": 30969, \"age\": 35, \"bonus\": 16137, \"ts\": 410596515}'\n"
     ]
    },
    {
     "ename": "KeyboardInterrupt",
     "evalue": "",
     "output_type": "error",
     "traceback": [
      "\u001b[0;31m---------------------------------------------------------------------------\u001b[0m",
      "\u001b[0;31mKeyboardInterrupt\u001b[0m                         Traceback (most recent call last)",
      "Cell \u001b[0;32mIn[7], line 1\u001b[0m\n\u001b[0;32m----> 1\u001b[0m \u001b[38;5;28;01mfor\u001b[39;00m message \u001b[38;5;129;01min\u001b[39;00m consumer:\n\u001b[1;32m      2\u001b[0m     \u001b[38;5;28mprint\u001b[39m (\u001b[38;5;124m\"\u001b[39m\u001b[38;5;132;01m%s\u001b[39;00m\u001b[38;5;124m:\u001b[39m\u001b[38;5;132;01m%d\u001b[39;00m\u001b[38;5;124m:\u001b[39m\u001b[38;5;132;01m%d\u001b[39;00m\u001b[38;5;124m: key=\u001b[39m\u001b[38;5;132;01m%s\u001b[39;00m\u001b[38;5;124m value=\u001b[39m\u001b[38;5;132;01m%s\u001b[39;00m\u001b[38;5;124m\"\u001b[39m \u001b[38;5;241m%\u001b[39m (message\u001b[38;5;241m.\u001b[39mtopic, message\u001b[38;5;241m.\u001b[39mpartition,\n\u001b[1;32m      3\u001b[0m                                           message\u001b[38;5;241m.\u001b[39moffset, message\u001b[38;5;241m.\u001b[39mkey,\n\u001b[1;32m      4\u001b[0m                                           message\u001b[38;5;241m.\u001b[39mvalue))\n",
      "File \u001b[0;32m/opt/conda/lib/python3.10/site-packages/kafka/consumer/group.py:1193\u001b[0m, in \u001b[0;36mKafkaConsumer.__next__\u001b[0;34m(self)\u001b[0m\n\u001b[1;32m   1191\u001b[0m     \u001b[38;5;28;01mreturn\u001b[39;00m \u001b[38;5;28mself\u001b[39m\u001b[38;5;241m.\u001b[39mnext_v1()\n\u001b[1;32m   1192\u001b[0m \u001b[38;5;28;01melse\u001b[39;00m:\n\u001b[0;32m-> 1193\u001b[0m     \u001b[38;5;28;01mreturn\u001b[39;00m \u001b[38;5;28;43mself\u001b[39;49m\u001b[38;5;241;43m.\u001b[39;49m\u001b[43mnext_v2\u001b[49m\u001b[43m(\u001b[49m\u001b[43m)\u001b[49m\n",
      "File \u001b[0;32m/opt/conda/lib/python3.10/site-packages/kafka/consumer/group.py:1201\u001b[0m, in \u001b[0;36mKafkaConsumer.next_v2\u001b[0;34m(self)\u001b[0m\n\u001b[1;32m   1199\u001b[0m     \u001b[38;5;28mself\u001b[39m\u001b[38;5;241m.\u001b[39m_iterator \u001b[38;5;241m=\u001b[39m \u001b[38;5;28mself\u001b[39m\u001b[38;5;241m.\u001b[39m_message_generator_v2()\n\u001b[1;32m   1200\u001b[0m \u001b[38;5;28;01mtry\u001b[39;00m:\n\u001b[0;32m-> 1201\u001b[0m     \u001b[38;5;28;01mreturn\u001b[39;00m \u001b[38;5;28;43mnext\u001b[39;49m\u001b[43m(\u001b[49m\u001b[38;5;28;43mself\u001b[39;49m\u001b[38;5;241;43m.\u001b[39;49m\u001b[43m_iterator\u001b[49m\u001b[43m)\u001b[49m\n\u001b[1;32m   1202\u001b[0m \u001b[38;5;28;01mexcept\u001b[39;00m \u001b[38;5;167;01mStopIteration\u001b[39;00m:\n\u001b[1;32m   1203\u001b[0m     \u001b[38;5;28mself\u001b[39m\u001b[38;5;241m.\u001b[39m_iterator \u001b[38;5;241m=\u001b[39m \u001b[38;5;28;01mNone\u001b[39;00m\n",
      "File \u001b[0;32m/opt/conda/lib/python3.10/site-packages/kafka/consumer/group.py:1116\u001b[0m, in \u001b[0;36mKafkaConsumer._message_generator_v2\u001b[0;34m(self)\u001b[0m\n\u001b[1;32m   1114\u001b[0m \u001b[38;5;28;01mdef\u001b[39;00m \u001b[38;5;21m_message_generator_v2\u001b[39m(\u001b[38;5;28mself\u001b[39m):\n\u001b[1;32m   1115\u001b[0m     timeout_ms \u001b[38;5;241m=\u001b[39m \u001b[38;5;241m1000\u001b[39m \u001b[38;5;241m*\u001b[39m (\u001b[38;5;28mself\u001b[39m\u001b[38;5;241m.\u001b[39m_consumer_timeout \u001b[38;5;241m-\u001b[39m time\u001b[38;5;241m.\u001b[39mtime())\n\u001b[0;32m-> 1116\u001b[0m     record_map \u001b[38;5;241m=\u001b[39m \u001b[38;5;28;43mself\u001b[39;49m\u001b[38;5;241;43m.\u001b[39;49m\u001b[43mpoll\u001b[49m\u001b[43m(\u001b[49m\u001b[43mtimeout_ms\u001b[49m\u001b[38;5;241;43m=\u001b[39;49m\u001b[43mtimeout_ms\u001b[49m\u001b[43m,\u001b[49m\u001b[43m \u001b[49m\u001b[43mupdate_offsets\u001b[49m\u001b[38;5;241;43m=\u001b[39;49m\u001b[38;5;28;43;01mFalse\u001b[39;49;00m\u001b[43m)\u001b[49m\n\u001b[1;32m   1117\u001b[0m     \u001b[38;5;28;01mfor\u001b[39;00m tp, records \u001b[38;5;129;01min\u001b[39;00m six\u001b[38;5;241m.\u001b[39miteritems(record_map):\n\u001b[1;32m   1118\u001b[0m         \u001b[38;5;66;03m# Generators are stateful, and it is possible that the tp / records\u001b[39;00m\n\u001b[1;32m   1119\u001b[0m         \u001b[38;5;66;03m# here may become stale during iteration -- i.e., we seek to a\u001b[39;00m\n\u001b[1;32m   1120\u001b[0m         \u001b[38;5;66;03m# different offset, pause consumption, or lose assignment.\u001b[39;00m\n\u001b[1;32m   1121\u001b[0m         \u001b[38;5;28;01mfor\u001b[39;00m record \u001b[38;5;129;01min\u001b[39;00m records:\n\u001b[1;32m   1122\u001b[0m             \u001b[38;5;66;03m# is_fetchable(tp) should handle assignment changes and offset\u001b[39;00m\n\u001b[1;32m   1123\u001b[0m             \u001b[38;5;66;03m# resets; for all other changes (e.g., seeks) we'll rely on the\u001b[39;00m\n\u001b[1;32m   1124\u001b[0m             \u001b[38;5;66;03m# outer function destroying the existing iterator/generator\u001b[39;00m\n\u001b[1;32m   1125\u001b[0m             \u001b[38;5;66;03m# via self._iterator = None\u001b[39;00m\n",
      "File \u001b[0;32m/opt/conda/lib/python3.10/site-packages/kafka/consumer/group.py:655\u001b[0m, in \u001b[0;36mKafkaConsumer.poll\u001b[0;34m(self, timeout_ms, max_records, update_offsets)\u001b[0m\n\u001b[1;32m    653\u001b[0m remaining \u001b[38;5;241m=\u001b[39m timeout_ms\n\u001b[1;32m    654\u001b[0m \u001b[38;5;28;01mwhile\u001b[39;00m \u001b[38;5;28;01mTrue\u001b[39;00m:\n\u001b[0;32m--> 655\u001b[0m     records \u001b[38;5;241m=\u001b[39m \u001b[38;5;28;43mself\u001b[39;49m\u001b[38;5;241;43m.\u001b[39;49m\u001b[43m_poll_once\u001b[49m\u001b[43m(\u001b[49m\u001b[43mremaining\u001b[49m\u001b[43m,\u001b[49m\u001b[43m \u001b[49m\u001b[43mmax_records\u001b[49m\u001b[43m,\u001b[49m\u001b[43m \u001b[49m\u001b[43mupdate_offsets\u001b[49m\u001b[38;5;241;43m=\u001b[39;49m\u001b[43mupdate_offsets\u001b[49m\u001b[43m)\u001b[49m\n\u001b[1;32m    656\u001b[0m     \u001b[38;5;28;01mif\u001b[39;00m records:\n\u001b[1;32m    657\u001b[0m         \u001b[38;5;28;01mreturn\u001b[39;00m records\n",
      "File \u001b[0;32m/opt/conda/lib/python3.10/site-packages/kafka/consumer/group.py:702\u001b[0m, in \u001b[0;36mKafkaConsumer._poll_once\u001b[0;34m(self, timeout_ms, max_records, update_offsets)\u001b[0m\n\u001b[1;32m    699\u001b[0m     \u001b[38;5;28mself\u001b[39m\u001b[38;5;241m.\u001b[39m_client\u001b[38;5;241m.\u001b[39mpoll(timeout_ms\u001b[38;5;241m=\u001b[39m\u001b[38;5;241m0\u001b[39m)\n\u001b[1;32m    701\u001b[0m timeout_ms \u001b[38;5;241m=\u001b[39m \u001b[38;5;28mmin\u001b[39m(timeout_ms, \u001b[38;5;28mself\u001b[39m\u001b[38;5;241m.\u001b[39m_coordinator\u001b[38;5;241m.\u001b[39mtime_to_next_poll() \u001b[38;5;241m*\u001b[39m \u001b[38;5;241m1000\u001b[39m)\n\u001b[0;32m--> 702\u001b[0m \u001b[38;5;28;43mself\u001b[39;49m\u001b[38;5;241;43m.\u001b[39;49m\u001b[43m_client\u001b[49m\u001b[38;5;241;43m.\u001b[39;49m\u001b[43mpoll\u001b[49m\u001b[43m(\u001b[49m\u001b[43mtimeout_ms\u001b[49m\u001b[38;5;241;43m=\u001b[39;49m\u001b[43mtimeout_ms\u001b[49m\u001b[43m)\u001b[49m\n\u001b[1;32m    703\u001b[0m \u001b[38;5;66;03m# after the long poll, we should check whether the group needs to rebalance\u001b[39;00m\n\u001b[1;32m    704\u001b[0m \u001b[38;5;66;03m# prior to returning data so that the group can stabilize faster\u001b[39;00m\n\u001b[1;32m    705\u001b[0m \u001b[38;5;28;01mif\u001b[39;00m \u001b[38;5;28mself\u001b[39m\u001b[38;5;241m.\u001b[39m_coordinator\u001b[38;5;241m.\u001b[39mneed_rejoin():\n",
      "File \u001b[0;32m/opt/conda/lib/python3.10/site-packages/kafka/client_async.py:602\u001b[0m, in \u001b[0;36mKafkaClient.poll\u001b[0;34m(self, timeout_ms, future)\u001b[0m\n\u001b[1;32m    599\u001b[0m             timeout \u001b[38;5;241m=\u001b[39m \u001b[38;5;28mmin\u001b[39m(timeout, \u001b[38;5;28mself\u001b[39m\u001b[38;5;241m.\u001b[39mconfig[\u001b[38;5;124m'\u001b[39m\u001b[38;5;124mretry_backoff_ms\u001b[39m\u001b[38;5;124m'\u001b[39m])\n\u001b[1;32m    600\u001b[0m         timeout \u001b[38;5;241m=\u001b[39m \u001b[38;5;28mmax\u001b[39m(\u001b[38;5;241m0\u001b[39m, timeout)  \u001b[38;5;66;03m# avoid negative timeouts\u001b[39;00m\n\u001b[0;32m--> 602\u001b[0m     \u001b[38;5;28;43mself\u001b[39;49m\u001b[38;5;241;43m.\u001b[39;49m\u001b[43m_poll\u001b[49m\u001b[43m(\u001b[49m\u001b[43mtimeout\u001b[49m\u001b[43m \u001b[49m\u001b[38;5;241;43m/\u001b[39;49m\u001b[43m \u001b[49m\u001b[38;5;241;43m1000\u001b[39;49m\u001b[43m)\u001b[49m\n\u001b[1;32m    604\u001b[0m \u001b[38;5;66;03m# called without the lock to avoid deadlock potential\u001b[39;00m\n\u001b[1;32m    605\u001b[0m \u001b[38;5;66;03m# if handlers need to acquire locks\u001b[39;00m\n\u001b[1;32m    606\u001b[0m responses\u001b[38;5;241m.\u001b[39mextend(\u001b[38;5;28mself\u001b[39m\u001b[38;5;241m.\u001b[39m_fire_pending_completed_requests())\n",
      "File \u001b[0;32m/opt/conda/lib/python3.10/site-packages/kafka/client_async.py:634\u001b[0m, in \u001b[0;36mKafkaClient._poll\u001b[0;34m(self, timeout)\u001b[0m\n\u001b[1;32m    631\u001b[0m \u001b[38;5;28mself\u001b[39m\u001b[38;5;241m.\u001b[39m_register_send_sockets()\n\u001b[1;32m    633\u001b[0m start_select \u001b[38;5;241m=\u001b[39m time\u001b[38;5;241m.\u001b[39mtime()\n\u001b[0;32m--> 634\u001b[0m ready \u001b[38;5;241m=\u001b[39m \u001b[38;5;28;43mself\u001b[39;49m\u001b[38;5;241;43m.\u001b[39;49m\u001b[43m_selector\u001b[49m\u001b[38;5;241;43m.\u001b[39;49m\u001b[43mselect\u001b[49m\u001b[43m(\u001b[49m\u001b[43mtimeout\u001b[49m\u001b[43m)\u001b[49m\n\u001b[1;32m    635\u001b[0m end_select \u001b[38;5;241m=\u001b[39m time\u001b[38;5;241m.\u001b[39mtime()\n\u001b[1;32m    636\u001b[0m \u001b[38;5;28;01mif\u001b[39;00m \u001b[38;5;28mself\u001b[39m\u001b[38;5;241m.\u001b[39m_sensors:\n",
      "File \u001b[0;32m/opt/conda/lib/python3.10/selectors.py:469\u001b[0m, in \u001b[0;36mEpollSelector.select\u001b[0;34m(self, timeout)\u001b[0m\n\u001b[1;32m    467\u001b[0m ready \u001b[38;5;241m=\u001b[39m []\n\u001b[1;32m    468\u001b[0m \u001b[38;5;28;01mtry\u001b[39;00m:\n\u001b[0;32m--> 469\u001b[0m     fd_event_list \u001b[38;5;241m=\u001b[39m \u001b[38;5;28;43mself\u001b[39;49m\u001b[38;5;241;43m.\u001b[39;49m\u001b[43m_selector\u001b[49m\u001b[38;5;241;43m.\u001b[39;49m\u001b[43mpoll\u001b[49m\u001b[43m(\u001b[49m\u001b[43mtimeout\u001b[49m\u001b[43m,\u001b[49m\u001b[43m \u001b[49m\u001b[43mmax_ev\u001b[49m\u001b[43m)\u001b[49m\n\u001b[1;32m    470\u001b[0m \u001b[38;5;28;01mexcept\u001b[39;00m \u001b[38;5;167;01mInterruptedError\u001b[39;00m:\n\u001b[1;32m    471\u001b[0m     \u001b[38;5;28;01mreturn\u001b[39;00m ready\n",
      "\u001b[0;31mKeyboardInterrupt\u001b[0m: "
     ]
    }
   ],
   "source": [
    "for message in consumer:\n",
    "    print (\"%s:%d:%d: key=%s value=%s\" % (message.topic, message.partition,\n",
    "                                          message.offset, message.key,\n",
    "                                          message.value))"
   ]
  },
  {
   "cell_type": "code",
   "execution_count": null,
   "id": "3c285f74-9601-462e-bd4c-bbb5cfb59126",
   "metadata": {
    "tags": []
   },
   "outputs": [],
   "source": [
    "from kafka import TopicPartition\n",
    "\n",
    "consumer = KafkaConsumer(group_id='dibimbing-group',\n",
    "                         bootstrap_servers=[f'{kafka_host}:9092'],\n",
    "                         value_deserializer=lambda m: json.loads(m.decode('ascii')),\n",
    "                         auto_offset_reset='earliest',\n",
    "                         enable_auto_commit=False\n",
    "                        )\n",
    "consumer.assign([TopicPartition(kafka_topic_partition, 2)])"
   ]
  },
  {
   "cell_type": "code",
   "execution_count": null,
   "id": "4b0a6eba-f188-4d4f-ab12-f63685faf4f3",
   "metadata": {
    "tags": []
   },
   "outputs": [],
   "source": [
    "for message in consumer:\n",
    "    print (\"%s:%d:%d: key=%s value=%s\" % (message.topic, message.partition,\n",
    "                                          message.offset, message.key,\n",
    "                                          message.value))"
   ]
  },
  {
   "cell_type": "code",
   "execution_count": 8,
   "id": "bb81528d-ed9f-48e2-9ce3-f0d27f8a26d0",
   "metadata": {
    "tags": []
   },
   "outputs": [],
   "source": [
    "consumer.seek_to_beginning()"
   ]
  },
  {
   "cell_type": "code",
   "execution_count": 9,
   "id": "c2794306-ef7a-416b-8b70-22395b9ed83b",
   "metadata": {
    "tags": []
   },
   "outputs": [
    {
     "name": "stdout",
     "output_type": "stream",
     "text": [
      "test-topic-1:0:0: key=None value=b'{\"emp_id\": \"c3866e6a-581d-4ae0-bcdb-f25ab91720db\", \"employee_name\": \"Leah Fuller\", \"department\": \"Sales\", \"state\": \"RJ\", \"salary\": 47753, \"age\": 24, \"bonus\": 57203, \"ts\": 656613087}'\n",
      "test-topic-1:0:1: key=None value=b'{\"emp_id\": \"00f5fa54-90f6-44ad-b7b7-1935085cab36\", \"employee_name\": \"Russell Olsen\", \"department\": \"Marketing\", \"state\": \"TX\", \"salary\": 124699, \"age\": 27, \"bonus\": 63076, \"ts\": 762456917}'\n",
      "test-topic-1:0:2: key=None value=b'{\"emp_id\": \"4cc3c855-81f5-48dd-9544-49424d31bff5\", \"employee_name\": \"Katherine Huff\", \"department\": \"IT\", \"state\": \"CA\", \"salary\": 99693, \"age\": 28, \"bonus\": 27341, \"ts\": 183402059}'\n",
      "test-topic-1:0:3: key=None value=b'{\"emp_id\": \"914c0d45-195a-4341-9883-83923d15cb3d\", \"employee_name\": \"Matthew Baker\", \"department\": \"Marketing\", \"state\": \"RJ\", \"salary\": 123241, \"age\": 38, \"bonus\": 74684, \"ts\": 989949331}'\n",
      "test-topic-1:0:4: key=None value=b'{\"emp_id\": \"2f35b22f-5d6c-4031-9f5f-b7564a72ba14\", \"employee_name\": \"John Williams\", \"department\": \"IT\", \"state\": \"FL\", \"salary\": 12815, \"age\": 48, \"bonus\": 99666, \"ts\": 197455476}'\n",
      "test-topic-1:0:5: key=None value=b'{\"emp_id\": \"107b798a-e104-48af-814f-7b4111848658\", \"employee_name\": \"Jennifer Adams\", \"department\": \"Marketing\", \"state\": \"TX\", \"salary\": 92787, \"age\": 50, \"bonus\": 35213, \"ts\": 1069898189}'\n",
      "test-topic-1:0:6: key=None value=b'{\"emp_id\": \"69373f27-d9f9-4802-b071-96f36447146e\", \"employee_name\": \"Rebecca Elliott DDS\", \"department\": \"Marketing\", \"state\": \"RJ\", \"salary\": 136553, \"age\": 50, \"bonus\": 28527, \"ts\": 1233940278}'\n",
      "test-topic-1:0:7: key=None value=b'{\"emp_id\": \"19601a07-f684-468d-99f1-e39c05a978a6\", \"employee_name\": \"Cory Wall\", \"department\": \"IT\", \"state\": \"FL\", \"salary\": 113196, \"age\": 23, \"bonus\": 49842, \"ts\": 773095042}'\n",
      "test-topic-1:0:8: key=None value=b'{\"emp_id\": \"6e046403-5042-45ab-9cd6-4c2dc6c89cd5\", \"employee_name\": \"Claudia Dixon\", \"department\": \"IT\", \"state\": \"NY\", \"salary\": 116202, \"age\": 23, \"bonus\": 93327, \"ts\": 1455515176}'\n",
      "test-topic-1:0:9: key=None value=b'{\"emp_id\": \"cb28dba4-9227-4f21-b476-1afa8176abe9\", \"employee_name\": \"Bradley Robinson\", \"department\": \"Sales\", \"state\": \"TX\", \"salary\": 90332, \"age\": 27, \"bonus\": 32484, \"ts\": 570798673}'\n",
      "test-topic-1:0:10: key=None value=b'{\"emp_id\": \"51b0f3aa-4eff-4f7f-9364-4d0ddac7f16d\", \"employee_name\": \"Gerald French\", \"department\": \"Marketing\", \"state\": \"FL\", \"salary\": 11590, \"age\": 37, \"bonus\": 86249, \"ts\": 981102883}'\n",
      "test-topic-1:0:11: key=None value=b'{\"emp_id\": \"d171cd6d-0c51-441c-aef4-cf34b4612e2e\", \"employee_name\": \"Madison Bowman\", \"department\": \"Sales\", \"state\": \"RJ\", \"salary\": 86761, \"age\": 48, \"bonus\": 38494, \"ts\": 323286648}'\n",
      "test-topic-1:0:12: key=None value=b'{\"emp_id\": \"56c12ee8-5d7d-4bd5-85ac-2dc9a9d230e4\", \"employee_name\": \"Stacy Williams\", \"department\": \"IT\", \"state\": \"CA\", \"salary\": 71578, \"age\": 60, \"bonus\": 96764, \"ts\": 892456601}'\n",
      "test-topic-1:0:13: key=None value=b'{\"emp_id\": \"af105690-f85a-4728-adf4-dcb82dde784b\", \"employee_name\": \"Jasmine Porter\", \"department\": \"Marketing\", \"state\": \"CA\", \"salary\": 93930, \"age\": 24, \"bonus\": 76834, \"ts\": 221615085}'\n",
      "test-topic-1:0:14: key=None value=b'{\"emp_id\": \"18390fcc-4c4a-4f2a-b537-b38aa1ea8a75\", \"employee_name\": \"Melissa Bryant\", \"department\": \"Sales\", \"state\": \"FL\", \"salary\": 92077, \"age\": 37, \"bonus\": 49299, \"ts\": 838341240}'\n",
      "test-topic-1:0:15: key=None value=b'{\"emp_id\": \"dac96c7f-c34b-40f2-91aa-3c120a6320a7\", \"employee_name\": \"Ashley Thomas\", \"department\": \"Marketing\", \"state\": \"CA\", \"salary\": 146378, \"age\": 35, \"bonus\": 77205, \"ts\": 474991237}'\n",
      "test-topic-1:0:16: key=None value=b'{\"emp_id\": \"5e957c86-61cd-4aa3-84e8-fb110401c078\", \"employee_name\": \"Heidi Fox\", \"department\": \"IT\", \"state\": \"RJ\", \"salary\": 75536, \"age\": 37, \"bonus\": 67827, \"ts\": 406144900}'\n",
      "test-topic-1:0:17: key=None value=b'{\"emp_id\": \"3e2e37bc-aa08-47b6-b095-dd8a3be87d60\", \"employee_name\": \"April Campbell\", \"department\": \"IT\", \"state\": \"CA\", \"salary\": 20197, \"age\": 30, \"bonus\": 71690, \"ts\": 2044978}'\n",
      "test-topic-1:0:18: key=None value=b'{\"emp_id\": \"fc909e48-fc20-4d2c-bc7c-5c189ff3b0e2\", \"employee_name\": \"Robert Bell\", \"department\": \"Sales\", \"state\": \"NY\", \"salary\": 35459, \"age\": 30, \"bonus\": 79055, \"ts\": 455302606}'\n",
      "test-topic-1:0:19: key=None value=b'{\"emp_id\": \"3d32cfd8-4f9f-40bb-b3d2-3791fc970785\", \"employee_name\": \"Jeffrey Smith\", \"department\": \"Marketing\", \"state\": \"FL\", \"salary\": 88285, \"age\": 27, \"bonus\": 49382, \"ts\": 1482587587}'\n",
      "test-topic-1:0:20: key=None value=b'{\"emp_id\": \"80b82d75-19f1-4de6-8381-cae6bcdfaf76\", \"employee_name\": \"Catherine Holt\", \"department\": \"Sales\", \"state\": \"TX\", \"salary\": 114022, \"age\": 45, \"bonus\": 83979, \"ts\": 206620726}'\n",
      "test-topic-1:0:21: key=None value=b'{\"emp_id\": \"1be5325f-aa5f-4656-9ab9-5cb756f4049a\", \"employee_name\": \"Arthur Pratt\", \"department\": \"Sales\", \"state\": \"FL\", \"salary\": 55496, \"age\": 22, \"bonus\": 28356, \"ts\": 45284563}'\n",
      "test-topic-1:0:22: key=None value=b'{\"emp_id\": \"e7db2611-a312-4930-9deb-cf1fdade8341\", \"employee_name\": \"Sherri Miller\", \"department\": \"HR\", \"state\": \"IL\", \"salary\": 77547, \"age\": 34, \"bonus\": 63971, \"ts\": 421751182}'\n",
      "test-topic-1:0:23: key=None value=b'{\"emp_id\": \"52821f84-1e9c-447f-b026-76295dc5bc5e\", \"employee_name\": \"Stacey Hardy\", \"department\": \"Sales\", \"state\": \"FL\", \"salary\": 115649, \"age\": 58, \"bonus\": 15834, \"ts\": 612861175}'\n",
      "test-topic-1:0:24: key=None value=b'{\"emp_id\": \"8356a9e3-cee3-4341-8f31-8b386b2a8b86\", \"employee_name\": \"John Moore\", \"department\": \"Sales\", \"state\": \"CA\", \"salary\": 42987, \"age\": 56, \"bonus\": 83536, \"ts\": 651421177}'\n",
      "test-topic-1:0:25: key=None value=b'{\"emp_id\": \"afa7e652-b640-4ca6-bd4e-3d1ef182366e\", \"employee_name\": \"Heather Fox\", \"department\": \"Sales\", \"state\": \"RJ\", \"salary\": 67028, \"age\": 58, \"bonus\": 90056, \"ts\": 1477241308}'\n",
      "test-topic-1:0:26: key=None value=b'{\"emp_id\": \"bd646f10-8d22-4db1-a5b8-e51359b1842d\", \"employee_name\": \"Steven Price\", \"department\": \"Sales\", \"state\": \"IL\", \"salary\": 97556, \"age\": 47, \"bonus\": 79448, \"ts\": 566091183}'\n",
      "test-topic-1:0:27: key=None value=b'{\"emp_id\": \"2e0bc996-5e89-4acc-a243-740ceba7d50d\", \"employee_name\": \"Robin Brooks\", \"department\": \"Sales\", \"state\": \"FL\", \"salary\": 68064, \"age\": 39, \"bonus\": 26860, \"ts\": 259053985}'\n",
      "test-topic-1:0:28: key=None value=b'{\"emp_id\": \"87e2a75b-64f7-4c94-8336-87497c53b518\", \"employee_name\": \"Jessica Allen\", \"department\": \"Marketing\", \"state\": \"TX\", \"salary\": 116886, \"age\": 45, \"bonus\": 4615, \"ts\": 361861280}'\n",
      "test-topic-1:0:29: key=None value=b'{\"emp_id\": \"ab52db64-4bdf-489b-a775-d9e858116897\", \"employee_name\": \"Tiffany Espinoza\", \"department\": \"HR\", \"state\": \"FL\", \"salary\": 43212, \"age\": 45, \"bonus\": 22719, \"ts\": 1389877961}'\n",
      "test-topic-1:0:30: key=None value=b'{\"emp_id\": \"db7b22d1-b0bd-44ff-aa86-ba47b6eedf48\", \"employee_name\": \"Eric Wong\", \"department\": \"IT\", \"state\": \"NY\", \"salary\": 55680, \"age\": 19, \"bonus\": 49755, \"ts\": 517733236}'\n",
      "test-topic-1:0:31: key=None value=b'{\"emp_id\": \"5312a189-6246-4f82-8f1d-34dd0a35aef5\", \"employee_name\": \"Kim Young\", \"department\": \"Marketing\", \"state\": \"RJ\", \"salary\": 30969, \"age\": 35, \"bonus\": 16137, \"ts\": 410596515}'\n",
      "test-topic-1:0:32: key=None value=b'{\"emp_id\": \"286d3acc-4380-4ea5-bc89-07c4460ca691\", \"employee_name\": \"Christian Thornton\", \"department\": \"Marketing\", \"state\": \"IL\", \"salary\": 125323, \"age\": 44, \"bonus\": 95079, \"ts\": 1661136521}'\n"
     ]
    },
    {
     "ename": "KeyboardInterrupt",
     "evalue": "",
     "output_type": "error",
     "traceback": [
      "\u001b[0;31m---------------------------------------------------------------------------\u001b[0m",
      "\u001b[0;31mKeyboardInterrupt\u001b[0m                         Traceback (most recent call last)",
      "Cell \u001b[0;32mIn[9], line 1\u001b[0m\n\u001b[0;32m----> 1\u001b[0m \u001b[38;5;28;01mfor\u001b[39;00m message \u001b[38;5;129;01min\u001b[39;00m consumer:\n\u001b[1;32m      2\u001b[0m     \u001b[38;5;28mprint\u001b[39m (\u001b[38;5;124m\"\u001b[39m\u001b[38;5;132;01m%s\u001b[39;00m\u001b[38;5;124m:\u001b[39m\u001b[38;5;132;01m%d\u001b[39;00m\u001b[38;5;124m:\u001b[39m\u001b[38;5;132;01m%d\u001b[39;00m\u001b[38;5;124m: key=\u001b[39m\u001b[38;5;132;01m%s\u001b[39;00m\u001b[38;5;124m value=\u001b[39m\u001b[38;5;132;01m%s\u001b[39;00m\u001b[38;5;124m\"\u001b[39m \u001b[38;5;241m%\u001b[39m (message\u001b[38;5;241m.\u001b[39mtopic, message\u001b[38;5;241m.\u001b[39mpartition,\n\u001b[1;32m      3\u001b[0m                                           message\u001b[38;5;241m.\u001b[39moffset, message\u001b[38;5;241m.\u001b[39mkey,\n\u001b[1;32m      4\u001b[0m                                           message\u001b[38;5;241m.\u001b[39mvalue))\n",
      "File \u001b[0;32m/opt/conda/lib/python3.10/site-packages/kafka/consumer/group.py:1193\u001b[0m, in \u001b[0;36mKafkaConsumer.__next__\u001b[0;34m(self)\u001b[0m\n\u001b[1;32m   1191\u001b[0m     \u001b[38;5;28;01mreturn\u001b[39;00m \u001b[38;5;28mself\u001b[39m\u001b[38;5;241m.\u001b[39mnext_v1()\n\u001b[1;32m   1192\u001b[0m \u001b[38;5;28;01melse\u001b[39;00m:\n\u001b[0;32m-> 1193\u001b[0m     \u001b[38;5;28;01mreturn\u001b[39;00m \u001b[38;5;28;43mself\u001b[39;49m\u001b[38;5;241;43m.\u001b[39;49m\u001b[43mnext_v2\u001b[49m\u001b[43m(\u001b[49m\u001b[43m)\u001b[49m\n",
      "File \u001b[0;32m/opt/conda/lib/python3.10/site-packages/kafka/consumer/group.py:1201\u001b[0m, in \u001b[0;36mKafkaConsumer.next_v2\u001b[0;34m(self)\u001b[0m\n\u001b[1;32m   1199\u001b[0m     \u001b[38;5;28mself\u001b[39m\u001b[38;5;241m.\u001b[39m_iterator \u001b[38;5;241m=\u001b[39m \u001b[38;5;28mself\u001b[39m\u001b[38;5;241m.\u001b[39m_message_generator_v2()\n\u001b[1;32m   1200\u001b[0m \u001b[38;5;28;01mtry\u001b[39;00m:\n\u001b[0;32m-> 1201\u001b[0m     \u001b[38;5;28;01mreturn\u001b[39;00m \u001b[38;5;28;43mnext\u001b[39;49m\u001b[43m(\u001b[49m\u001b[38;5;28;43mself\u001b[39;49m\u001b[38;5;241;43m.\u001b[39;49m\u001b[43m_iterator\u001b[49m\u001b[43m)\u001b[49m\n\u001b[1;32m   1202\u001b[0m \u001b[38;5;28;01mexcept\u001b[39;00m \u001b[38;5;167;01mStopIteration\u001b[39;00m:\n\u001b[1;32m   1203\u001b[0m     \u001b[38;5;28mself\u001b[39m\u001b[38;5;241m.\u001b[39m_iterator \u001b[38;5;241m=\u001b[39m \u001b[38;5;28;01mNone\u001b[39;00m\n",
      "File \u001b[0;32m/opt/conda/lib/python3.10/site-packages/kafka/consumer/group.py:1116\u001b[0m, in \u001b[0;36mKafkaConsumer._message_generator_v2\u001b[0;34m(self)\u001b[0m\n\u001b[1;32m   1114\u001b[0m \u001b[38;5;28;01mdef\u001b[39;00m \u001b[38;5;21m_message_generator_v2\u001b[39m(\u001b[38;5;28mself\u001b[39m):\n\u001b[1;32m   1115\u001b[0m     timeout_ms \u001b[38;5;241m=\u001b[39m \u001b[38;5;241m1000\u001b[39m \u001b[38;5;241m*\u001b[39m (\u001b[38;5;28mself\u001b[39m\u001b[38;5;241m.\u001b[39m_consumer_timeout \u001b[38;5;241m-\u001b[39m time\u001b[38;5;241m.\u001b[39mtime())\n\u001b[0;32m-> 1116\u001b[0m     record_map \u001b[38;5;241m=\u001b[39m \u001b[38;5;28;43mself\u001b[39;49m\u001b[38;5;241;43m.\u001b[39;49m\u001b[43mpoll\u001b[49m\u001b[43m(\u001b[49m\u001b[43mtimeout_ms\u001b[49m\u001b[38;5;241;43m=\u001b[39;49m\u001b[43mtimeout_ms\u001b[49m\u001b[43m,\u001b[49m\u001b[43m \u001b[49m\u001b[43mupdate_offsets\u001b[49m\u001b[38;5;241;43m=\u001b[39;49m\u001b[38;5;28;43;01mFalse\u001b[39;49;00m\u001b[43m)\u001b[49m\n\u001b[1;32m   1117\u001b[0m     \u001b[38;5;28;01mfor\u001b[39;00m tp, records \u001b[38;5;129;01min\u001b[39;00m six\u001b[38;5;241m.\u001b[39miteritems(record_map):\n\u001b[1;32m   1118\u001b[0m         \u001b[38;5;66;03m# Generators are stateful, and it is possible that the tp / records\u001b[39;00m\n\u001b[1;32m   1119\u001b[0m         \u001b[38;5;66;03m# here may become stale during iteration -- i.e., we seek to a\u001b[39;00m\n\u001b[1;32m   1120\u001b[0m         \u001b[38;5;66;03m# different offset, pause consumption, or lose assignment.\u001b[39;00m\n\u001b[1;32m   1121\u001b[0m         \u001b[38;5;28;01mfor\u001b[39;00m record \u001b[38;5;129;01min\u001b[39;00m records:\n\u001b[1;32m   1122\u001b[0m             \u001b[38;5;66;03m# is_fetchable(tp) should handle assignment changes and offset\u001b[39;00m\n\u001b[1;32m   1123\u001b[0m             \u001b[38;5;66;03m# resets; for all other changes (e.g., seeks) we'll rely on the\u001b[39;00m\n\u001b[1;32m   1124\u001b[0m             \u001b[38;5;66;03m# outer function destroying the existing iterator/generator\u001b[39;00m\n\u001b[1;32m   1125\u001b[0m             \u001b[38;5;66;03m# via self._iterator = None\u001b[39;00m\n",
      "File \u001b[0;32m/opt/conda/lib/python3.10/site-packages/kafka/consumer/group.py:655\u001b[0m, in \u001b[0;36mKafkaConsumer.poll\u001b[0;34m(self, timeout_ms, max_records, update_offsets)\u001b[0m\n\u001b[1;32m    653\u001b[0m remaining \u001b[38;5;241m=\u001b[39m timeout_ms\n\u001b[1;32m    654\u001b[0m \u001b[38;5;28;01mwhile\u001b[39;00m \u001b[38;5;28;01mTrue\u001b[39;00m:\n\u001b[0;32m--> 655\u001b[0m     records \u001b[38;5;241m=\u001b[39m \u001b[38;5;28;43mself\u001b[39;49m\u001b[38;5;241;43m.\u001b[39;49m\u001b[43m_poll_once\u001b[49m\u001b[43m(\u001b[49m\u001b[43mremaining\u001b[49m\u001b[43m,\u001b[49m\u001b[43m \u001b[49m\u001b[43mmax_records\u001b[49m\u001b[43m,\u001b[49m\u001b[43m \u001b[49m\u001b[43mupdate_offsets\u001b[49m\u001b[38;5;241;43m=\u001b[39;49m\u001b[43mupdate_offsets\u001b[49m\u001b[43m)\u001b[49m\n\u001b[1;32m    656\u001b[0m     \u001b[38;5;28;01mif\u001b[39;00m records:\n\u001b[1;32m    657\u001b[0m         \u001b[38;5;28;01mreturn\u001b[39;00m records\n",
      "File \u001b[0;32m/opt/conda/lib/python3.10/site-packages/kafka/consumer/group.py:702\u001b[0m, in \u001b[0;36mKafkaConsumer._poll_once\u001b[0;34m(self, timeout_ms, max_records, update_offsets)\u001b[0m\n\u001b[1;32m    699\u001b[0m     \u001b[38;5;28mself\u001b[39m\u001b[38;5;241m.\u001b[39m_client\u001b[38;5;241m.\u001b[39mpoll(timeout_ms\u001b[38;5;241m=\u001b[39m\u001b[38;5;241m0\u001b[39m)\n\u001b[1;32m    701\u001b[0m timeout_ms \u001b[38;5;241m=\u001b[39m \u001b[38;5;28mmin\u001b[39m(timeout_ms, \u001b[38;5;28mself\u001b[39m\u001b[38;5;241m.\u001b[39m_coordinator\u001b[38;5;241m.\u001b[39mtime_to_next_poll() \u001b[38;5;241m*\u001b[39m \u001b[38;5;241m1000\u001b[39m)\n\u001b[0;32m--> 702\u001b[0m \u001b[38;5;28;43mself\u001b[39;49m\u001b[38;5;241;43m.\u001b[39;49m\u001b[43m_client\u001b[49m\u001b[38;5;241;43m.\u001b[39;49m\u001b[43mpoll\u001b[49m\u001b[43m(\u001b[49m\u001b[43mtimeout_ms\u001b[49m\u001b[38;5;241;43m=\u001b[39;49m\u001b[43mtimeout_ms\u001b[49m\u001b[43m)\u001b[49m\n\u001b[1;32m    703\u001b[0m \u001b[38;5;66;03m# after the long poll, we should check whether the group needs to rebalance\u001b[39;00m\n\u001b[1;32m    704\u001b[0m \u001b[38;5;66;03m# prior to returning data so that the group can stabilize faster\u001b[39;00m\n\u001b[1;32m    705\u001b[0m \u001b[38;5;28;01mif\u001b[39;00m \u001b[38;5;28mself\u001b[39m\u001b[38;5;241m.\u001b[39m_coordinator\u001b[38;5;241m.\u001b[39mneed_rejoin():\n",
      "File \u001b[0;32m/opt/conda/lib/python3.10/site-packages/kafka/client_async.py:602\u001b[0m, in \u001b[0;36mKafkaClient.poll\u001b[0;34m(self, timeout_ms, future)\u001b[0m\n\u001b[1;32m    599\u001b[0m             timeout \u001b[38;5;241m=\u001b[39m \u001b[38;5;28mmin\u001b[39m(timeout, \u001b[38;5;28mself\u001b[39m\u001b[38;5;241m.\u001b[39mconfig[\u001b[38;5;124m'\u001b[39m\u001b[38;5;124mretry_backoff_ms\u001b[39m\u001b[38;5;124m'\u001b[39m])\n\u001b[1;32m    600\u001b[0m         timeout \u001b[38;5;241m=\u001b[39m \u001b[38;5;28mmax\u001b[39m(\u001b[38;5;241m0\u001b[39m, timeout)  \u001b[38;5;66;03m# avoid negative timeouts\u001b[39;00m\n\u001b[0;32m--> 602\u001b[0m     \u001b[38;5;28;43mself\u001b[39;49m\u001b[38;5;241;43m.\u001b[39;49m\u001b[43m_poll\u001b[49m\u001b[43m(\u001b[49m\u001b[43mtimeout\u001b[49m\u001b[43m \u001b[49m\u001b[38;5;241;43m/\u001b[39;49m\u001b[43m \u001b[49m\u001b[38;5;241;43m1000\u001b[39;49m\u001b[43m)\u001b[49m\n\u001b[1;32m    604\u001b[0m \u001b[38;5;66;03m# called without the lock to avoid deadlock potential\u001b[39;00m\n\u001b[1;32m    605\u001b[0m \u001b[38;5;66;03m# if handlers need to acquire locks\u001b[39;00m\n\u001b[1;32m    606\u001b[0m responses\u001b[38;5;241m.\u001b[39mextend(\u001b[38;5;28mself\u001b[39m\u001b[38;5;241m.\u001b[39m_fire_pending_completed_requests())\n",
      "File \u001b[0;32m/opt/conda/lib/python3.10/site-packages/kafka/client_async.py:634\u001b[0m, in \u001b[0;36mKafkaClient._poll\u001b[0;34m(self, timeout)\u001b[0m\n\u001b[1;32m    631\u001b[0m \u001b[38;5;28mself\u001b[39m\u001b[38;5;241m.\u001b[39m_register_send_sockets()\n\u001b[1;32m    633\u001b[0m start_select \u001b[38;5;241m=\u001b[39m time\u001b[38;5;241m.\u001b[39mtime()\n\u001b[0;32m--> 634\u001b[0m ready \u001b[38;5;241m=\u001b[39m \u001b[38;5;28;43mself\u001b[39;49m\u001b[38;5;241;43m.\u001b[39;49m\u001b[43m_selector\u001b[49m\u001b[38;5;241;43m.\u001b[39;49m\u001b[43mselect\u001b[49m\u001b[43m(\u001b[49m\u001b[43mtimeout\u001b[49m\u001b[43m)\u001b[49m\n\u001b[1;32m    635\u001b[0m end_select \u001b[38;5;241m=\u001b[39m time\u001b[38;5;241m.\u001b[39mtime()\n\u001b[1;32m    636\u001b[0m \u001b[38;5;28;01mif\u001b[39;00m \u001b[38;5;28mself\u001b[39m\u001b[38;5;241m.\u001b[39m_sensors:\n",
      "File \u001b[0;32m/opt/conda/lib/python3.10/selectors.py:469\u001b[0m, in \u001b[0;36mEpollSelector.select\u001b[0;34m(self, timeout)\u001b[0m\n\u001b[1;32m    467\u001b[0m ready \u001b[38;5;241m=\u001b[39m []\n\u001b[1;32m    468\u001b[0m \u001b[38;5;28;01mtry\u001b[39;00m:\n\u001b[0;32m--> 469\u001b[0m     fd_event_list \u001b[38;5;241m=\u001b[39m \u001b[38;5;28;43mself\u001b[39;49m\u001b[38;5;241;43m.\u001b[39;49m\u001b[43m_selector\u001b[49m\u001b[38;5;241;43m.\u001b[39;49m\u001b[43mpoll\u001b[49m\u001b[43m(\u001b[49m\u001b[43mtimeout\u001b[49m\u001b[43m,\u001b[49m\u001b[43m \u001b[49m\u001b[43mmax_ev\u001b[49m\u001b[43m)\u001b[49m\n\u001b[1;32m    470\u001b[0m \u001b[38;5;28;01mexcept\u001b[39;00m \u001b[38;5;167;01mInterruptedError\u001b[39;00m:\n\u001b[1;32m    471\u001b[0m     \u001b[38;5;28;01mreturn\u001b[39;00m ready\n",
      "\u001b[0;31mKeyboardInterrupt\u001b[0m: "
     ]
    }
   ],
   "source": [
    "for message in consumer:\n",
    "    print (\"%s:%d:%d: key=%s value=%s\" % (message.topic, message.partition,\n",
    "                                          message.offset, message.key,\n",
    "                                          message.value))"
   ]
  },
  {
   "cell_type": "code",
   "execution_count": null,
   "id": "b069420f-f082-41be-9501-58a1f5104a1f",
   "metadata": {},
   "outputs": [],
   "source": []
  }
 ],
 "metadata": {
  "kernelspec": {
   "display_name": "Python 3 (ipykernel)",
   "language": "python",
   "name": "python3"
  },
  "language_info": {
   "codemirror_mode": {
    "name": "ipython",
    "version": 3
   },
   "file_extension": ".py",
   "mimetype": "text/x-python",
   "name": "python",
   "nbconvert_exporter": "python",
   "pygments_lexer": "ipython3",
   "version": "3.10.10"
  }
 },
 "nbformat": 4,
 "nbformat_minor": 5
}
